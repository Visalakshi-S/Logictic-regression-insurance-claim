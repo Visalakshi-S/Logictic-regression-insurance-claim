{
  "nbformat": 4,
  "nbformat_minor": 0,
  "metadata": {
    "colab": {
      "name": "logistic regression project.ipynb",
      "provenance": []
    },
    "kernelspec": {
      "name": "python3",
      "display_name": "Python 3"
    }
  },
  "cells": [
    {
      "cell_type": "markdown",
      "metadata": {
        "id": "snTFV0WifDUM"
      },
      "source": [
        "Problem statement:\n",
        "Till now you have seen that how to solve the linear regression and regularization problem. Now in this project, you are going to predict the Insurance claim using logistic regression. This dataset contains information on the insurance claim. each observation is different policyholders with various features like the age of the person, the gender of the policyholder, body mass index, providing an understanding of the body, number of children of the policyholder, smoking state of the policyholder and individual medical costs billed by health insurance.\n",
        "\n",
        "The dataset has details of 1338 Insurance claim with 8 features. You need to predict the Insurance Claim (Yes:1/No:0)\n",
        "\n",
        "About the dataset\n",
        "A zipped file containing the following items is given:\n",
        "\n",
        "train.csv\n",
        "The data file train.csv contains the 1070 instances with the 8 features including the target feature.\n",
        "\n",
        "test.csv\n",
        "The datafile test.csv contains the 268instances with the 7 features excluding the target feature.\n",
        "\n",
        "sample_submission.csv\n",
        "Explained under the Submission sub-heading\n",
        "\n",
        "LogisticDataDictionary.csv\n",
        "The file contains data dictionary(Dictionary explaining what each feature of the dataset means) of the Insurance Claim dataset\n",
        "\n",
        "logistic_regression_student_template.ipynb\n",
        "A template notebook explaining the task breakdown to solve the given problem statement (Learners are recommended to use it)\n",
        "\n",
        "Submission\n",
        "After training the model on train.csv data, the learner has to predict the target feature of the test.csv data using the trained model. The learner has to then submit a csv file with the predicted feature.\n",
        "\n",
        "Sample submission file(sample_submission.csv) is given to you as a reference to the format expected when you submit\n",
        "\n",
        "Evaluation metrics\n",
        "For this particular dataset we are using roc_auc_score as the evaluation metric."
      ]
    },
    {
      "cell_type": "code",
      "metadata": {
        "id": "DLIPtSjTaONc"
      },
      "source": [
        "import pandas as pd\n",
        "import numpy as np\n",
        "import seaborn as sns\n",
        "import matplotlib.pyplot as plt\n",
        "from sklearn.model_selection import train_test_split\n",
        "from sklearn.preprocessing import MinMaxScaler\n",
        "from sklearn.linear_model import LogisticRegression\n",
        "from sklearn.metrics import accuracy_score, precision_score, recall_score, f1_score, confusion_matrix\n",
        "from sklearn.metrics import roc_auc_score"
      ],
      "execution_count": null,
      "outputs": []
    },
    {
      "cell_type": "markdown",
      "metadata": {
        "id": "t7GarPqEckz-"
      },
      "source": [
        "Reading the train & the test data"
      ]
    },
    {
      "cell_type": "code",
      "metadata": {
        "id": "J8qzZkTScFV_"
      },
      "source": [
        "train_path=\"/content/drive/MyDrive/Colab_Notebooks/train_insurance.csv\"\n",
        "test_path=\"/content/drive/MyDrive/Colab_Notebooks/test_insurance.csv\"\n",
        "df_train=pd.read_csv(train_path)\n",
        "df_test=pd.read_csv(test_path)"
      ],
      "execution_count": null,
      "outputs": []
    },
    {
      "cell_type": "code",
      "metadata": {
        "colab": {
          "base_uri": "https://localhost:8080/",
          "height": 204
        },
        "id": "g3lITbpxcKyD",
        "outputId": "eae7bb2c-77cb-4608-8847-b0bbfe377dbf"
      },
      "source": [
        "df_train.head()"
      ],
      "execution_count": null,
      "outputs": [
        {
          "output_type": "execute_result",
          "data": {
            "text/html": [
              "<div>\n",
              "<style scoped>\n",
              "    .dataframe tbody tr th:only-of-type {\n",
              "        vertical-align: middle;\n",
              "    }\n",
              "\n",
              "    .dataframe tbody tr th {\n",
              "        vertical-align: top;\n",
              "    }\n",
              "\n",
              "    .dataframe thead th {\n",
              "        text-align: right;\n",
              "    }\n",
              "</style>\n",
              "<table border=\"1\" class=\"dataframe\">\n",
              "  <thead>\n",
              "    <tr style=\"text-align: right;\">\n",
              "      <th></th>\n",
              "      <th>Id</th>\n",
              "      <th>age</th>\n",
              "      <th>sex</th>\n",
              "      <th>bmi</th>\n",
              "      <th>children</th>\n",
              "      <th>smoker</th>\n",
              "      <th>region</th>\n",
              "      <th>charges</th>\n",
              "      <th>insuranceclaim</th>\n",
              "    </tr>\n",
              "  </thead>\n",
              "  <tbody>\n",
              "    <tr>\n",
              "      <th>0</th>\n",
              "      <td>1182</td>\n",
              "      <td>25</td>\n",
              "      <td>0</td>\n",
              "      <td>30.30</td>\n",
              "      <td>0</td>\n",
              "      <td>0</td>\n",
              "      <td>3</td>\n",
              "      <td>2632.9920</td>\n",
              "      <td>1</td>\n",
              "    </tr>\n",
              "    <tr>\n",
              "      <th>1</th>\n",
              "      <td>990</td>\n",
              "      <td>26</td>\n",
              "      <td>0</td>\n",
              "      <td>19.80</td>\n",
              "      <td>1</td>\n",
              "      <td>0</td>\n",
              "      <td>3</td>\n",
              "      <td>3378.9100</td>\n",
              "      <td>0</td>\n",
              "    </tr>\n",
              "    <tr>\n",
              "      <th>2</th>\n",
              "      <td>123</td>\n",
              "      <td>44</td>\n",
              "      <td>1</td>\n",
              "      <td>31.35</td>\n",
              "      <td>1</td>\n",
              "      <td>1</td>\n",
              "      <td>0</td>\n",
              "      <td>39556.4945</td>\n",
              "      <td>1</td>\n",
              "    </tr>\n",
              "    <tr>\n",
              "      <th>3</th>\n",
              "      <td>184</td>\n",
              "      <td>44</td>\n",
              "      <td>1</td>\n",
              "      <td>30.69</td>\n",
              "      <td>2</td>\n",
              "      <td>0</td>\n",
              "      <td>2</td>\n",
              "      <td>7731.4271</td>\n",
              "      <td>0</td>\n",
              "    </tr>\n",
              "    <tr>\n",
              "      <th>4</th>\n",
              "      <td>1167</td>\n",
              "      <td>29</td>\n",
              "      <td>0</td>\n",
              "      <td>24.60</td>\n",
              "      <td>2</td>\n",
              "      <td>0</td>\n",
              "      <td>3</td>\n",
              "      <td>4529.4770</td>\n",
              "      <td>0</td>\n",
              "    </tr>\n",
              "  </tbody>\n",
              "</table>\n",
              "</div>"
            ],
            "text/plain": [
              "     Id  age  sex    bmi  children  smoker  region     charges  insuranceclaim\n",
              "0  1182   25    0  30.30         0       0       3   2632.9920               1\n",
              "1   990   26    0  19.80         1       0       3   3378.9100               0\n",
              "2   123   44    1  31.35         1       1       0  39556.4945               1\n",
              "3   184   44    1  30.69         2       0       2   7731.4271               0\n",
              "4  1167   29    0  24.60         2       0       3   4529.4770               0"
            ]
          },
          "metadata": {
            "tags": []
          },
          "execution_count": 153
        }
      ]
    },
    {
      "cell_type": "markdown",
      "metadata": {
        "id": "u9GYKdbFcqMh"
      },
      "source": [
        "Checking the null values in both train & test data"
      ]
    },
    {
      "cell_type": "code",
      "metadata": {
        "colab": {
          "base_uri": "https://localhost:8080/"
        },
        "id": "1ObrpdQGcpYB",
        "outputId": "850253b4-1a29-48f3-dc02-5cd7334ed2d2"
      },
      "source": [
        "df_train.isnull().sum()"
      ],
      "execution_count": null,
      "outputs": [
        {
          "output_type": "execute_result",
          "data": {
            "text/plain": [
              "Id                0\n",
              "age               0\n",
              "sex               0\n",
              "bmi               0\n",
              "children          0\n",
              "smoker            0\n",
              "region            0\n",
              "charges           0\n",
              "insuranceclaim    0\n",
              "dtype: int64"
            ]
          },
          "metadata": {
            "tags": []
          },
          "execution_count": 154
        }
      ]
    },
    {
      "cell_type": "code",
      "metadata": {
        "colab": {
          "base_uri": "https://localhost:8080/"
        },
        "id": "Ze3vE0nmcvhI",
        "outputId": "7faf4259-2783-4d92-c6a9-cb6384bd427f"
      },
      "source": [
        "df_test.isnull().sum()"
      ],
      "execution_count": null,
      "outputs": [
        {
          "output_type": "execute_result",
          "data": {
            "text/plain": [
              "Id          0\n",
              "age         0\n",
              "sex         0\n",
              "bmi         0\n",
              "children    0\n",
              "smoker      0\n",
              "region      0\n",
              "charges     0\n",
              "dtype: int64"
            ]
          },
          "metadata": {
            "tags": []
          },
          "execution_count": 155
        }
      ]
    },
    {
      "cell_type": "code",
      "metadata": {
        "colab": {
          "base_uri": "https://localhost:8080/"
        },
        "id": "3lpdmNWscxrv",
        "outputId": "9898ffdd-099c-4346-bab8-9e9efd270b49"
      },
      "source": [
        "df_train.shape"
      ],
      "execution_count": null,
      "outputs": [
        {
          "output_type": "execute_result",
          "data": {
            "text/plain": [
              "(1070, 9)"
            ]
          },
          "metadata": {
            "tags": []
          },
          "execution_count": 156
        }
      ]
    },
    {
      "cell_type": "code",
      "metadata": {
        "colab": {
          "base_uri": "https://localhost:8080/"
        },
        "id": "GR81RDCrc0PX",
        "outputId": "eede84cd-098c-4ee9-c7dc-c62c66484dba"
      },
      "source": [
        "df_test.shape"
      ],
      "execution_count": null,
      "outputs": [
        {
          "output_type": "execute_result",
          "data": {
            "text/plain": [
              "(268, 8)"
            ]
          },
          "metadata": {
            "tags": []
          },
          "execution_count": 157
        }
      ]
    },
    {
      "cell_type": "markdown",
      "metadata": {
        "id": "CCJsoludc6we"
      },
      "source": [
        "EDA & Data Preprocessing\n",
        "Check for the categorical & continuous features.\n",
        "Check out the best plots for plotting between categorical target and continuous features and try making some inferences from these plots."
      ]
    },
    {
      "cell_type": "code",
      "metadata": {
        "colab": {
          "base_uri": "https://localhost:8080/",
          "height": 777
        },
        "id": "CGViomoUc2m_",
        "outputId": "e322ad9d-1fc5-4da2-ba7e-2f981ad1ebaf"
      },
      "source": [
        "cols = ['age','sex','bmi','children','smoker','region','charges','insuranceclaim']\n",
        "df_train[cols].hist(figsize=(15,10))"
      ],
      "execution_count": null,
      "outputs": [
        {
          "output_type": "execute_result",
          "data": {
            "text/plain": [
              "array([[<matplotlib.axes._subplots.AxesSubplot object at 0x7efd0f6cb400>,\n",
              "        <matplotlib.axes._subplots.AxesSubplot object at 0x7efd0f59ffd0>,\n",
              "        <matplotlib.axes._subplots.AxesSubplot object at 0x7efd0f5d7358>],\n",
              "       [<matplotlib.axes._subplots.AxesSubplot object at 0x7efd0f5866d8>,\n",
              "        <matplotlib.axes._subplots.AxesSubplot object at 0x7efd0f533a58>,\n",
              "        <matplotlib.axes._subplots.AxesSubplot object at 0x7efd0f4e5dd8>],\n",
              "       [<matplotlib.axes._subplots.AxesSubplot object at 0x7efd0f49f198>,\n",
              "        <matplotlib.axes._subplots.AxesSubplot object at 0x7efd0f4ce4e0>,\n",
              "        <matplotlib.axes._subplots.AxesSubplot object at 0x7efd0f4ce550>]],\n",
              "      dtype=object)"
            ]
          },
          "metadata": {
            "tags": []
          },
          "execution_count": 158
        },
        {
          "output_type": "display_data",
          "data": {
            "image/png": "[encoded data removed]",
            "text/plain": [
              "<Figure size 1080x720 with 9 Axes>"
            ]
          },
          "metadata": {
            "tags": [],
            "needs_background": "light"
          }
        }
      ]
    },
    {
      "cell_type": "markdown",
      "metadata": {
        "id": "7H9OmVshc6Ne"
      },
      "source": [
        "We can see that the categorical columns are sex, children, smoker, region & insurance claim"
      ]
    },
    {
      "cell_type": "code",
      "metadata": {
        "colab": {
          "base_uri": "https://localhost:8080/",
          "height": 352
        },
        "id": "8exMnL7qe28u",
        "outputId": "da34f3e6-bddd-4f17-e7d9-095aa4e6fd0a"
      },
      "source": [
        "corr=df_train.corr()\n",
        "sns.heatmap(corr)"
      ],
      "execution_count": null,
      "outputs": [
        {
          "output_type": "execute_result",
          "data": {
            "text/plain": [
              "<matplotlib.axes._subplots.AxesSubplot at 0x7efd0f24d630>"
            ]
          },
          "metadata": {
            "tags": []
          },
          "execution_count": 159
        },
        {
          "output_type": "display_data",
          "data": {
            "image/png": "[encoded data removed]",
            "text/plain": [
              "<Figure size 432x288 with 2 Axes>"
            ]
          },
          "metadata": {
            "tags": [],
            "needs_background": "light"
          }
        }
      ]
    },
    {
      "cell_type": "markdown",
      "metadata": {
        "id": "f6Djcow4e_Ab"
      },
      "source": [
        "There is no correlation between the variables"
      ]
    },
    {
      "cell_type": "code",
      "metadata": {
        "colab": {
          "base_uri": "https://localhost:8080/",
          "height": 282
        },
        "id": "sJZPuozjf4bj",
        "outputId": "8b29b424-353e-4416-f838-c03d6732e71e"
      },
      "source": [
        "##Data pre-processing removing outliers & checking for skewness\n",
        "df_train.boxplot([\"age\"])\n",
        "df_train.boxplot([\"sex\"])\n",
        "df_train.boxplot([\"bmi\"])\n",
        "df_train.boxplot([\"children\"])"
      ],
      "execution_count": null,
      "outputs": [
        {
          "output_type": "execute_result",
          "data": {
            "text/plain": [
              "<matplotlib.axes._subplots.AxesSubplot at 0x7efd0f1693c8>"
            ]
          },
          "metadata": {
            "tags": []
          },
          "execution_count": 160
        },
        {
          "output_type": "display_data",
          "data": {
            "image/png": "[encoded data removed]",
            "text/plain": [
              "<Figure size 432x288 with 1 Axes>"
            ]
          },
          "metadata": {
            "tags": [],
            "needs_background": "light"
          }
        }
      ]
    },
    {
      "cell_type": "markdown",
      "metadata": {
        "id": "KHjYHKofhXNk"
      },
      "source": [
        "Removing the outliers using Z score"
      ]
    },
    {
      "cell_type": "code",
      "metadata": {
        "colab": {
          "base_uri": "https://localhost:8080/"
        },
        "id": "ZEQqZXaMhMov",
        "outputId": "dedc70d7-b7d6-45ae-d520-1b935ffd2ae1"
      },
      "source": [
        "from scipy import stats\n",
        "import numpy as np\n",
        "z = np.abs(stats.zscore(df_train))\n",
        "\n",
        "print(z)\n",
        "threshold = 3\n",
        "print(np.where(z > 3))\n",
        "df_train = df_train[(z < 3).all(axis=1)]"
      ],
      "execution_count": null,
      "outputs": [
        {
          "output_type": "stream",
          "text": [
            "[[1.33245407 1.00617372 0.99069747 ... 1.33677908 0.87703442 0.87170432]\n",
            " [0.83412912 0.93446214 0.99069747 ... 1.33677908 0.81549145 1.14717798]\n",
            " [1.41611949 0.35634621 1.00938988 ... 1.36710299 2.16938867 0.87170432]\n",
            " ...\n",
            " [1.14619348 1.36030826 0.99069747 ... 0.43548505 0.90463599 0.87170432]\n",
            " [0.11519156 1.36473159 1.00938988 ... 1.36710299 0.93054297 0.87170432]\n",
            " [0.61611195 0.86275057 1.00938988 ... 1.36710299 0.69437131 1.14717798]]\n",
            "(array([ 50,  71, 265, 266, 280, 348, 358, 367, 408, 504, 567, 670, 681,\n",
            "       722, 731, 735, 754, 768, 841, 855, 862, 866, 878, 891, 952, 960]), array([4, 4, 7, 4, 4, 7, 4, 4, 4, 3, 7, 4, 7, 7, 4, 4, 3, 4, 4, 4, 7, 3,\n",
            "       4, 7, 3, 4]))\n"
          ],
          "name": "stdout"
        }
      ]
    },
    {
      "cell_type": "markdown",
      "metadata": {
        "id": "6s3GyVZ2he4C"
      },
      "source": [
        "Checking the skewness"
      ]
    },
    {
      "cell_type": "code",
      "metadata": {
        "colab": {
          "base_uri": "https://localhost:8080/",
          "height": 400
        },
        "id": "7Hr9YunBhg7W",
        "outputId": "f57cec8b-011e-45d4-8e6d-c236439f31c4"
      },
      "source": [
        "import matplotlib.pyplot as plt\n",
        "import scipy.stats   \n",
        "import scipy.special \n",
        "\n",
        "sns.distplot(df_train['charges'], fit=scipy.stats.norm);\n",
        "\n",
        "# fit a gaussian function to Rental Price\n",
        "(mu, sigma) = scipy.stats.norm.fit(df_train['charges'])\n",
        "\n",
        "# mean, std, skewness and kurtosis\n",
        "print('mu = {:.2f} and sigma = {:.2f}'.format(mu, sigma))\n",
        "print(\"Skewness: %f\" % df_train['charges'].skew())\n",
        "print(\"Kurtosis: %f\" % df_train['charges'].kurt())\n",
        "\n",
        "# plot the distribution\n",
        "plt.legend(['Normal dist. ($\\mu=$ {:.2f} and $\\sigma=$ {:.2f} )'.format(mu, sigma)],\n",
        "            loc='best')\n",
        "plt.ylabel('Frequency')\n",
        "plt.title('charges')\n",
        "plt.show()"
      ],
      "execution_count": null,
      "outputs": [
        {
          "output_type": "stream",
          "text": [
            "mu = 13031.20 and sigma = 11638.26\n",
            "Skewness: 1.421544\n",
            "Kurtosis: 1.198829\n"
          ],
          "name": "stdout"
        },
        {
          "output_type": "stream",
          "text": [
            "/usr/local/lib/python3.6/dist-packages/seaborn/distributions.py:2551: FutureWarning: `distplot` is a deprecated function and will be removed in a future version. Please adapt your code to use either `displot` (a figure-level function with similar flexibility) or `histplot` (an axes-level function for histograms).\n",
            "  warnings.warn(msg, FutureWarning)\n"
          ],
          "name": "stderr"
        },
        {
          "output_type": "display_data",
          "data": {
            "image/png": "[encoded data removed]",
            "text/plain": [
              "<Figure size 432x288 with 1 Axes>"
            ]
          },
          "metadata": {
            "tags": [],
            "needs_background": "light"
          }
        }
      ]
    },
    {
      "cell_type": "markdown",
      "metadata": {
        "id": "iEyi8di5h-eZ"
      },
      "source": [
        "Log transforming charges"
      ]
    },
    {
      "cell_type": "code",
      "metadata": {
        "id": "iaXWVm4fiBes"
      },
      "source": [
        "#df_train[\"log_charges\"]=np.log(df_train[\"charges\"])\n",
        "#df_test[\"log_charges\"]=np.log(df_test[\"charges\"])\n",
        "#sns.distplot(df_train[\"log_charges\"], fit=scipy.stats.norm);\n",
        "\n",
        "# fit a gaussian function to Rental Price\n",
        "#(mu, sigma) = scipy.stats.norm.fit(df_train[\"log_charges\"])\n",
        "\n",
        "# mean, std, skewness and kurtosis\n",
        "#print('mu = {:.2f} and sigma = {:.2f}'.format(mu, sigma))\n",
        "#print(\"Skewness: %f\" % df_train[\"log_charges\"].skew())\n",
        "#print(\"Kurtosis: %f\" % df_train[\"log_charges\"].kurt())\n",
        "\n",
        "# plot the distribution\n",
        "#plt.legend(['Normal dist. ($\\mu=$ {:.2f} and $\\sigma=$ {:.2f} )'.format(mu, sigma)],\n",
        "#            loc='best')\n",
        "#plt.ylabel('Frequency')\n",
        "#plt.title('Charges')\n",
        "#plt.show()"
      ],
      "execution_count": null,
      "outputs": []
    },
    {
      "cell_type": "code",
      "metadata": {
        "id": "46O9s_9hiOSz"
      },
      "source": [
        "#df_train.drop([\"charges\"],axis=1,inplace=True)\n",
        "#df_test.drop([\"charges\"],axis=1,inplace=True)"
      ],
      "execution_count": null,
      "outputs": []
    },
    {
      "cell_type": "markdown",
      "metadata": {
        "id": "WwM1kh43itoO"
      },
      "source": [
        "Dropping ID "
      ]
    },
    {
      "cell_type": "code",
      "metadata": {
        "id": "-4jyr558iwJ8"
      },
      "source": [
        "df_train.drop([\"Id\"],axis=1,inplace=True)\n",
        "df_test.drop([\"Id\"],axis=1,inplace=True)"
      ],
      "execution_count": null,
      "outputs": []
    },
    {
      "cell_type": "code",
      "metadata": {
        "colab": {
          "base_uri": "https://localhost:8080/",
          "height": 204
        },
        "id": "_5yMakCJe5g8",
        "outputId": "3816a719-9f89-46b5-d7ac-40067b65ccfe"
      },
      "source": [
        "df_train.head()"
      ],
      "execution_count": null,
      "outputs": [
        {
          "output_type": "execute_result",
          "data": {
            "text/html": [
              "<div>\n",
              "<style scoped>\n",
              "    .dataframe tbody tr th:only-of-type {\n",
              "        vertical-align: middle;\n",
              "    }\n",
              "\n",
              "    .dataframe tbody tr th {\n",
              "        vertical-align: top;\n",
              "    }\n",
              "\n",
              "    .dataframe thead th {\n",
              "        text-align: right;\n",
              "    }\n",
              "</style>\n",
              "<table border=\"1\" class=\"dataframe\">\n",
              "  <thead>\n",
              "    <tr style=\"text-align: right;\">\n",
              "      <th></th>\n",
              "      <th>age</th>\n",
              "      <th>sex</th>\n",
              "      <th>bmi</th>\n",
              "      <th>children</th>\n",
              "      <th>smoker</th>\n",
              "      <th>region</th>\n",
              "      <th>charges</th>\n",
              "      <th>insuranceclaim</th>\n",
              "    </tr>\n",
              "  </thead>\n",
              "  <tbody>\n",
              "    <tr>\n",
              "      <th>0</th>\n",
              "      <td>25</td>\n",
              "      <td>0</td>\n",
              "      <td>30.30</td>\n",
              "      <td>0</td>\n",
              "      <td>0</td>\n",
              "      <td>3</td>\n",
              "      <td>2632.9920</td>\n",
              "      <td>1</td>\n",
              "    </tr>\n",
              "    <tr>\n",
              "      <th>1</th>\n",
              "      <td>26</td>\n",
              "      <td>0</td>\n",
              "      <td>19.80</td>\n",
              "      <td>1</td>\n",
              "      <td>0</td>\n",
              "      <td>3</td>\n",
              "      <td>3378.9100</td>\n",
              "      <td>0</td>\n",
              "    </tr>\n",
              "    <tr>\n",
              "      <th>2</th>\n",
              "      <td>44</td>\n",
              "      <td>1</td>\n",
              "      <td>31.35</td>\n",
              "      <td>1</td>\n",
              "      <td>1</td>\n",
              "      <td>0</td>\n",
              "      <td>39556.4945</td>\n",
              "      <td>1</td>\n",
              "    </tr>\n",
              "    <tr>\n",
              "      <th>3</th>\n",
              "      <td>44</td>\n",
              "      <td>1</td>\n",
              "      <td>30.69</td>\n",
              "      <td>2</td>\n",
              "      <td>0</td>\n",
              "      <td>2</td>\n",
              "      <td>7731.4271</td>\n",
              "      <td>0</td>\n",
              "    </tr>\n",
              "    <tr>\n",
              "      <th>4</th>\n",
              "      <td>29</td>\n",
              "      <td>0</td>\n",
              "      <td>24.60</td>\n",
              "      <td>2</td>\n",
              "      <td>0</td>\n",
              "      <td>3</td>\n",
              "      <td>4529.4770</td>\n",
              "      <td>0</td>\n",
              "    </tr>\n",
              "  </tbody>\n",
              "</table>\n",
              "</div>"
            ],
            "text/plain": [
              "   age  sex    bmi  children  smoker  region     charges  insuranceclaim\n",
              "0   25    0  30.30         0       0       3   2632.9920               1\n",
              "1   26    0  19.80         1       0       3   3378.9100               0\n",
              "2   44    1  31.35         1       1       0  39556.4945               1\n",
              "3   44    1  30.69         2       0       2   7731.4271               0\n",
              "4   29    0  24.60         2       0       3   4529.4770               0"
            ]
          },
          "metadata": {
            "tags": []
          },
          "execution_count": 166
        }
      ]
    },
    {
      "cell_type": "markdown",
      "metadata": {
        "id": "CvMF1ua9fSyv"
      },
      "source": [
        "Splitting into train & test data, independant variables(feastures on X), dependant variable(target on y)"
      ]
    },
    {
      "cell_type": "code",
      "metadata": {
        "id": "jQseYhCJfQxD"
      },
      "source": [
        "X=df_train[[\"age\",\"sex\",\"bmi\",\"children\",\"smoker\",\"region\",\"charges\"]]\n",
        "y=df_train[[\"insuranceclaim\"]]\n",
        "X_train,X_test,y_train,y_test=train_test_split(X,y,test_size=0.2,random_state=50)"
      ],
      "execution_count": null,
      "outputs": []
    },
    {
      "cell_type": "code",
      "metadata": {
        "id": "eaJ_PnTqfi-h"
      },
      "source": [
        "scaler =MinMaxScaler()\n",
        "scaler.fit(X_train)\n",
        "X_train = scaler.transform(X_train)\n",
        "X_test = scaler.transform(X_test)"
      ],
      "execution_count": null,
      "outputs": []
    },
    {
      "cell_type": "markdown",
      "metadata": {
        "id": "PCT8r8rQQrRQ"
      },
      "source": [
        "Model prediction"
      ]
    },
    {
      "cell_type": "code",
      "metadata": {
        "colab": {
          "base_uri": "https://localhost:8080/"
        },
        "id": "ylF9HtGRfj94",
        "outputId": "88bc7337-2c3d-4b4b-99bb-8912e3b8e248"
      },
      "source": [
        "model =LogisticRegression()\n",
        "model.fit(X_train, y_train)\n",
        "y_pred=model.predict(X_test)\n",
        "print(y_pred)"
      ],
      "execution_count": null,
      "outputs": [
        {
          "output_type": "stream",
          "text": [
            "[0 1 1 1 1 0 0 0 1 0 1 1 1 1 0 1 1 1 1 0 1 0 1 1 0 1 0 0 0 1 0 1 0 1 0 0 0\n",
            " 0 1 1 1 1 1 1 1 0 1 1 0 1 1 0 1 0 1 0 0 1 0 1 0 0 0 1 1 0 1 1 1 1 1 1 0 0\n",
            " 1 1 1 1 1 1 1 1 0 1 1 0 1 0 1 1 0 0 1 0 0 1 0 0 1 1 1 1 0 0 0 0 0 1 1 1 0\n",
            " 0 0 0 0 1 1 1 0 0 0 0 0 0 1 1 1 0 1 1 1 0 0 1 1 0 0 1 1 1 1 1 0 0 1 1 1 0\n",
            " 0 1 1 0 1 1 0 1 1 1 1 0 1 1 1 0 0 0 0 1 0 0 1 1 0 0 0 1 0 0 0 1 1 1 1 0 1\n",
            " 1 1 0 1 1 0 1 0 1 1 1 1 0 0 0 0 1 0 1 1 0 1 1 0]\n"
          ],
          "name": "stdout"
        },
        {
          "output_type": "stream",
          "text": [
            "/usr/local/lib/python3.6/dist-packages/sklearn/utils/validation.py:760: DataConversionWarning: A column-vector y was passed when a 1d array was expected. Please change the shape of y to (n_samples, ), for example using ravel().\n",
            "  y = column_or_1d(y, warn=True)\n"
          ],
          "name": "stderr"
        }
      ]
    },
    {
      "cell_type": "markdown",
      "metadata": {
        "id": "GC1zorT5Qtop"
      },
      "source": [
        "Testing the model with ROC accuracy"
      ]
    },
    {
      "cell_type": "code",
      "metadata": {
        "colab": {
          "base_uri": "https://localhost:8080/"
        },
        "id": "K7kzBh-vkagR",
        "outputId": "9a998f79-dcae-4eb9-d052-64d1af0ec7ef"
      },
      "source": [
        "roc_auc_score(y_test, y_pred)"
      ],
      "execution_count": null,
      "outputs": [
        {
          "output_type": "execute_result",
          "data": {
            "text/plain": [
              "0.8780657748049052"
            ]
          },
          "metadata": {
            "tags": []
          },
          "execution_count": 170
        }
      ]
    },
    {
      "cell_type": "code",
      "metadata": {
        "colab": {
          "base_uri": "https://localhost:8080/"
        },
        "id": "b1F2tbK1knp4",
        "outputId": "7b8c0c19-ba31-49a8-81dd-5b487b5e93d4"
      },
      "source": [
        "y_pred_test = model.predict(df_test)\n",
        "print(y_pred_test)\n",
        "submissions_f = pd.DataFrame(y_pred_test,columns = ['insuranceclaim'])\n",
        "print(submissions_f)\n",
        "submissions_f.to_csv(\"/content/drive/MyDrive/Colab_Notebooks/sample_submission_insurance.csv\")"
      ],
      "execution_count": null,
      "outputs": [
        {
          "output_type": "stream",
          "text": [
            "[1 1 1 1 1 1 1 1 1 1 1 1 1 1 1 1 1 1 1 1 1 1 1 1 1 1 1 1 1 1 1 1 1 1 1 1 1\n",
            " 1 1 1 1 1 1 1 1 1 1 1 1 1 1 1 1 1 1 1 1 1 1 1 1 1 1 1 1 1 1 1 1 1 1 1 1 1\n",
            " 1 1 1 1 1 1 1 1 1 1 1 1 1 1 1 1 1 1 1 1 1 1 1 1 1 1 1 1 1 1 1 1 1 1 1 1 1\n",
            " 1 1 1 1 1 1 1 1 1 1 1 1 1 1 1 1 1 1 1 1 1 1 1 1 1 1 1 1 1 1 1 1 1 1 1 1 1\n",
            " 1 1 1 1 1 1 1 1 1 1 1 1 1 1 1 1 1 1 1 1 1 1 1 1 1 1 1 1 1 1 1 1 1 1 1 1 1\n",
            " 1 1 1 1 1 1 1 1 1 1 1 1 1 1 1 1 1 1 1 1 1 1 1 1 1 1 1 1 1 1 1 1 1 1 1 1 1\n",
            " 1 1 1 1 1 1 1 1 1 1 1 1 1 1 1 1 1 1 1 1 1 1 1 1 1 1 1 1 1 1 1 1 1 1 1 1 1\n",
            " 1 1 1 1 1 1 1 1 1]\n",
            "     insuranceclaim\n",
            "0                 1\n",
            "1                 1\n",
            "2                 1\n",
            "3                 1\n",
            "4                 1\n",
            "..              ...\n",
            "263               1\n",
            "264               1\n",
            "265               1\n",
            "266               1\n",
            "267               1\n",
            "\n",
            "[268 rows x 1 columns]\n"
          ],
          "name": "stdout"
        }
      ]
    },
    {
      "cell_type": "code",
      "metadata": {
        "id": "O269-fdkmDuT"
      },
      "source": [
        ""
      ],
      "execution_count": null,
      "outputs": []
    }
  ]
}